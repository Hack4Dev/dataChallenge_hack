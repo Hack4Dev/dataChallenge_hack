{
 "cells": [
  {
   "cell_type": "markdown",
   "id": "890e7eed-96fd-4f51-9cbc-69d9d71e83de",
   "metadata": {},
   "source": [
    "# overall"
   ]
  },
  {
   "cell_type": "code",
   "execution_count": null,
   "id": "bf268e93-f7ac-481e-8027-2cede44b07b9",
   "metadata": {},
   "outputs": [],
   "source": [
    "import os\n",
    "from pathlib import Path\n",
    "\n",
    "import numpy as np\n",
    "from ska_sdc import Sdc1Scorer\n",
    "\n",
    "from sklearn.ensemble import RandomForestClassifier\n",
    "from sklearn.metrics import classification_report\n",
    "\n",
    "from ska.sdc1.models.sdc1_image import Sdc1Image\n",
    "from ska.sdc1.utils.bdsf_utils import cat_df_from_srl_df, load_truth_df\n",
    "from ska.sdc1.utils.classification import SKLClassification\n",
    "from ska.sdc1.utils.source_finder import SourceFinder"
   ]
  },
  {
   "cell_type": "markdown",
   "id": "cbc2d793-9b48-455f-b15a-9177e2480c1f",
   "metadata": {},
   "source": [
    "you see the above packges, our jop is to unpack those, and explain them to the students. :D that would be cool :D"
   ]
  },
  {
   "cell_type": "code",
   "execution_count": null,
   "id": "3edb5fc0-b668-4d3d-9e79-3068fc801ca7",
   "metadata": {},
   "outputs": [],
   "source": [
    "\n",
    "# Challenge frequency bands\n",
    "#\n",
    "# FREQS = [560, 1400, 9200]\n",
    "FREQS = [560]"
   ]
  },
  {
   "cell_type": "code",
   "execution_count": 1,
   "id": "8a72e2ed-3345-4625-8c51-3bc6fbdd0738",
   "metadata": {},
   "outputs": [
    {
     "name": "stdout",
     "output_type": "stream",
     "text": [
      "\n",
      "Step 1: Preprocessing\n"
     ]
    },
    {
     "ename": "NameError",
     "evalue": "name 'FREQS' is not defined",
     "output_type": "error",
     "traceback": [
      "\u001b[0;31m---------------------------------------------------------------------------\u001b[0m",
      "\u001b[0;31mNameError\u001b[0m                                 Traceback (most recent call last)",
      "Input \u001b[0;32mIn [1]\u001b[0m, in \u001b[0;36m<cell line: 3>\u001b[0;34m()\u001b[0m\n\u001b[1;32m      1\u001b[0m \u001b[38;5;28mprint\u001b[39m(\u001b[38;5;124m\"\u001b[39m\u001b[38;5;130;01m\\n\u001b[39;00m\u001b[38;5;124mStep 1: Preprocessing\u001b[39m\u001b[38;5;124m\"\u001b[39m)\n\u001b[1;32m      2\u001b[0m sdc1_image_list \u001b[38;5;241m=\u001b[39m []\n\u001b[0;32m----> 3\u001b[0m \u001b[38;5;28;01mfor\u001b[39;00m freq \u001b[38;5;129;01min\u001b[39;00m \u001b[43mFREQS\u001b[49m:\n\u001b[1;32m      4\u001b[0m     new_image \u001b[38;5;241m=\u001b[39m Sdc1Image(freq, image_path(freq), pb_path(freq))\n\u001b[1;32m      5\u001b[0m     new_image\u001b[38;5;241m.\u001b[39mpreprocess()\n",
      "\u001b[0;31mNameError\u001b[0m: name 'FREQS' is not defined"
     ]
    }
   ],
   "source": [
    "print(\"\\nStep 1: Preprocessing\")\n",
    "sdc1_image_list = []\n",
    "for freq in FREQS:\n",
    "    new_image = Sdc1Image(freq, image_path(freq), pb_path(freq))\n",
    "    new_image.preprocess()\n",
    "    sdc1_image_list.append(new_image)"
   ]
  },
  {
   "cell_type": "code",
   "execution_count": null,
   "id": "4e35a4bb-f7e6-4661-bd1a-f39ed158ae83",
   "metadata": {},
   "outputs": [],
   "source": []
  }
 ],
 "metadata": {
  "kernelspec": {
   "display_name": "dc1_kernel",
   "language": "python",
   "name": "dc1_kernel"
  },
  "language_info": {
   "codemirror_mode": {
    "name": "ipython",
    "version": 3
   },
   "file_extension": ".py",
   "mimetype": "text/x-python",
   "name": "python",
   "nbconvert_exporter": "python",
   "pygments_lexer": "ipython3",
   "version": "3.8.10"
  }
 },
 "nbformat": 4,
 "nbformat_minor": 5
}
