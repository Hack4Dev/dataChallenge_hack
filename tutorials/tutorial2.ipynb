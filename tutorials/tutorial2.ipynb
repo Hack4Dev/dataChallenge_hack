{
 "cells": [
  {
   "cell_type": "markdown",
   "id": "049ae877-9f02-4272-b9bc-0d2ce1804770",
   "metadata": {},
   "source": [
    "# Tutorial 2: Source Characterization\n",
    "https://astronomers.skatelescope.org/ska-science-data-challenge-1/"
   ]
  },
  {
   "cell_type": "markdown",
   "id": "0dcdae23-9c0e-4b97-9eac-d09ce661950a",
   "metadata": {},
   "source": [
    "---"
   ]
  },
  {
   "cell_type": "markdown",
   "id": "35e668a6-b708-4e61-9b6e-aea0906b02bf",
   "metadata": {},
   "source": [
    "### Introdction"
   ]
  },
  {
   "cell_type": "markdown",
   "id": "1b572371-6a35-45da-bbe5-5cad195857ce",
   "metadata": {},
   "source": [
    "This notebook will show how to perform source characterization on a corrected (calibrated) fits images."
   ]
  },
  {
   "cell_type": "markdown",
   "id": "fd8a4ba8-e901-404e-8415-b3b6b68d4a15",
   "metadata": {},
   "source": [
    "---"
   ]
  },
  {
   "cell_type": "code",
   "execution_count": 1,
   "id": "d03b72c7-8810-4240-8d76-fd3afd1fba2c",
   "metadata": {},
   "outputs": [],
   "source": []
  },
  {
   "cell_type": "markdown",
   "id": "3cfd26b9-0cef-468f-b28e-21bafeccc7af",
   "metadata": {},
   "source": [
    "---"
   ]
  }
 ],
 "metadata": {
  "kernelspec": {
   "display_name": "dc1_ker2",
   "language": "python",
   "name": "dc1_ker2"
  },
  "language_info": {
   "codemirror_mode": {
    "name": "ipython",
    "version": 3
   },
   "file_extension": ".py",
   "mimetype": "text/x-python",
   "name": "python",
   "nbconvert_exporter": "python",
   "pygments_lexer": "ipython3",
   "version": "3.8.10"
  }
 },
 "nbformat": 4,
 "nbformat_minor": 5
}
