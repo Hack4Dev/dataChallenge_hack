{
 "cells": [
  {
   "cell_type": "markdown",
   "id": "890e7eed-96fd-4f51-9cbc-69d9d71e83de",
   "metadata": {},
   "source": [
    "# overall"
   ]
  },
  {
   "cell_type": "code",
   "execution_count": null,
   "id": "bf268e93-f7ac-481e-8027-2cede44b07b9",
   "metadata": {},
   "outputs": [],
   "source": [
    "import os\n",
    "from pathlib import Path\n",
    "\n",
    "import numpy as np\n",
    "from ska_sdc import Sdc1Scorer\n",
    "\n",
    "from sklearn.ensemble import RandomForestClassifier\n",
    "from sklearn.metrics import classification_report\n",
    "\n",
    "from ska.sdc1.models.sdc1_image import Sdc1Image\n",
    "from ska.sdc1.utils.bdsf_utils import cat_df_from_srl_df, load_truth_df\n",
    "from ska.sdc1.utils.classification import SKLClassification\n",
    "from ska.sdc1.utils.source_finder import SourceFinder"
   ]
  },
  {
   "cell_type": "markdown",
   "id": "cbc2d793-9b48-455f-b15a-9177e2480c1f",
   "metadata": {},
   "source": [
    "you see the above packges, our jop is to unpack those, and explain them to the students. :D that would be cool :D"
   ]
  },
  {
   "cell_type": "code",
   "execution_count": null,
   "id": "3edb5fc0-b668-4d3d-9e79-3068fc801ca7",
   "metadata": {},
   "outputs": [],
   "source": [
    "\n",
    "# Challenge frequency bands\n",
    "#\n",
    "# FREQS = [560, 1400, 9200]\n",
    "FREQS = [560]"
   ]
  }
 ],
 "metadata": {
  "kernelspec": {
   "display_name": "dc1_ker",
   "language": "python",
   "name": "dc1_ker"
  },
  "language_info": {
   "codemirror_mode": {
    "name": "ipython",
    "version": 3
   },
   "file_extension": ".py",
   "mimetype": "text/x-python",
   "name": "python",
   "nbconvert_exporter": "python",
   "pygments_lexer": "ipython3",
   "version": "3.8.10"
  }
 },
 "nbformat": 4,
 "nbformat_minor": 5
}
